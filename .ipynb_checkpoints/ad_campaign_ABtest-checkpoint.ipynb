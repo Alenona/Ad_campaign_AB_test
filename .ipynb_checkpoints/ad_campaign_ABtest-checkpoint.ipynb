{
 "cells": [
  {
   "cell_type": "markdown",
   "id": "09e6845a-62c9-4ca0-9321-e85f34248c66",
   "metadata": {},
   "source": [
    "Импортируем необходимые библиотеки и загружаем данные."
   ]
  },
  {
   "cell_type": "code",
   "execution_count": 118,
   "id": "9f4427a2-4b10-4186-bed0-4c76cd575a8a",
   "metadata": {},
   "outputs": [],
   "source": [
    "import pandas as pd\n",
    "import matplotlib.pyplot as plt\n",
    "import seaborn as sns\n",
    "import numpy as np\n",
    "from scipy.stats import mannwhitneyu\n",
    "from scipy.stats import shapiro\n",
    "from scipy.stats import ttest_ind"
   ]
  },
  {
   "cell_type": "code",
   "execution_count": 119,
   "id": "80be796f-8452-4b5d-8222-2b9901c4a4bb",
   "metadata": {},
   "outputs": [],
   "source": [
    "control_group = pd.read_csv('control_group.csv',sep=';')\n",
    "test_group = pd.read_csv('test_group.csv',sep=';')"
   ]
  },
  {
   "cell_type": "code",
   "execution_count": 120,
   "id": "ab983ff7-afca-46ab-b59a-315d94dbac62",
   "metadata": {},
   "outputs": [
    {
     "data": {
      "text/html": [
       "<div>\n",
       "<style scoped>\n",
       "    .dataframe tbody tr th:only-of-type {\n",
       "        vertical-align: middle;\n",
       "    }\n",
       "\n",
       "    .dataframe tbody tr th {\n",
       "        vertical-align: top;\n",
       "    }\n",
       "\n",
       "    .dataframe thead th {\n",
       "        text-align: right;\n",
       "    }\n",
       "</style>\n",
       "<table border=\"1\" class=\"dataframe\">\n",
       "  <thead>\n",
       "    <tr style=\"text-align: right;\">\n",
       "      <th></th>\n",
       "      <th>Campaign Name</th>\n",
       "      <th>Date</th>\n",
       "      <th>Spend [USD]</th>\n",
       "      <th># of Impressions</th>\n",
       "      <th>Reach</th>\n",
       "      <th># of Website Clicks</th>\n",
       "      <th># of Searches</th>\n",
       "      <th># of View Content</th>\n",
       "      <th># of Add to Cart</th>\n",
       "      <th># of Purchase</th>\n",
       "    </tr>\n",
       "  </thead>\n",
       "  <tbody>\n",
       "    <tr>\n",
       "      <th>0</th>\n",
       "      <td>Control Campaign</td>\n",
       "      <td>1.08.2019</td>\n",
       "      <td>2280</td>\n",
       "      <td>82702.0</td>\n",
       "      <td>56930.0</td>\n",
       "      <td>7016.0</td>\n",
       "      <td>2290.0</td>\n",
       "      <td>2159.0</td>\n",
       "      <td>1819.0</td>\n",
       "      <td>618.0</td>\n",
       "    </tr>\n",
       "    <tr>\n",
       "      <th>1</th>\n",
       "      <td>Control Campaign</td>\n",
       "      <td>2.08.2019</td>\n",
       "      <td>1757</td>\n",
       "      <td>121040.0</td>\n",
       "      <td>102513.0</td>\n",
       "      <td>8110.0</td>\n",
       "      <td>2033.0</td>\n",
       "      <td>1841.0</td>\n",
       "      <td>1219.0</td>\n",
       "      <td>511.0</td>\n",
       "    </tr>\n",
       "  </tbody>\n",
       "</table>\n",
       "</div>"
      ],
      "text/plain": [
       "      Campaign Name       Date  Spend [USD]  # of Impressions     Reach  \\\n",
       "0  Control Campaign  1.08.2019         2280           82702.0   56930.0   \n",
       "1  Control Campaign  2.08.2019         1757          121040.0  102513.0   \n",
       "\n",
       "   # of Website Clicks  # of Searches  # of View Content  # of Add to Cart  \\\n",
       "0               7016.0         2290.0             2159.0            1819.0   \n",
       "1               8110.0         2033.0             1841.0            1219.0   \n",
       "\n",
       "   # of Purchase  \n",
       "0          618.0  \n",
       "1          511.0  "
      ]
     },
     "execution_count": 120,
     "metadata": {},
     "output_type": "execute_result"
    }
   ],
   "source": [
    "control_group.head(2)"
   ]
  },
  {
   "cell_type": "code",
   "execution_count": 121,
   "id": "f2ed02cd-195c-47f7-b6d0-9be4b1ea44f8",
   "metadata": {},
   "outputs": [
    {
     "data": {
      "text/html": [
       "<div>\n",
       "<style scoped>\n",
       "    .dataframe tbody tr th:only-of-type {\n",
       "        vertical-align: middle;\n",
       "    }\n",
       "\n",
       "    .dataframe tbody tr th {\n",
       "        vertical-align: top;\n",
       "    }\n",
       "\n",
       "    .dataframe thead th {\n",
       "        text-align: right;\n",
       "    }\n",
       "</style>\n",
       "<table border=\"1\" class=\"dataframe\">\n",
       "  <thead>\n",
       "    <tr style=\"text-align: right;\">\n",
       "      <th></th>\n",
       "      <th>Campaign Name</th>\n",
       "      <th>Date</th>\n",
       "      <th>Spend [USD]</th>\n",
       "      <th># of Impressions</th>\n",
       "      <th>Reach</th>\n",
       "      <th># of Website Clicks</th>\n",
       "      <th># of Searches</th>\n",
       "      <th># of View Content</th>\n",
       "      <th># of Add to Cart</th>\n",
       "      <th># of Purchase</th>\n",
       "    </tr>\n",
       "  </thead>\n",
       "  <tbody>\n",
       "    <tr>\n",
       "      <th>0</th>\n",
       "      <td>Test Campaign</td>\n",
       "      <td>1.08.2019</td>\n",
       "      <td>3008</td>\n",
       "      <td>39550</td>\n",
       "      <td>35820</td>\n",
       "      <td>3038</td>\n",
       "      <td>1946</td>\n",
       "      <td>1069</td>\n",
       "      <td>894</td>\n",
       "      <td>255</td>\n",
       "    </tr>\n",
       "    <tr>\n",
       "      <th>1</th>\n",
       "      <td>Test Campaign</td>\n",
       "      <td>2.08.2019</td>\n",
       "      <td>2542</td>\n",
       "      <td>100719</td>\n",
       "      <td>91236</td>\n",
       "      <td>4657</td>\n",
       "      <td>2359</td>\n",
       "      <td>1548</td>\n",
       "      <td>879</td>\n",
       "      <td>677</td>\n",
       "    </tr>\n",
       "  </tbody>\n",
       "</table>\n",
       "</div>"
      ],
      "text/plain": [
       "   Campaign Name       Date  Spend [USD]  # of Impressions  Reach  \\\n",
       "0  Test Campaign  1.08.2019         3008             39550  35820   \n",
       "1  Test Campaign  2.08.2019         2542            100719  91236   \n",
       "\n",
       "   # of Website Clicks  # of Searches  # of View Content  # of Add to Cart  \\\n",
       "0                 3038           1946               1069               894   \n",
       "1                 4657           2359               1548               879   \n",
       "\n",
       "   # of Purchase  \n",
       "0            255  \n",
       "1            677  "
      ]
     },
     "execution_count": 121,
     "metadata": {},
     "output_type": "execute_result"
    }
   ],
   "source": [
    "test_group.head(2)"
   ]
  },
  {
   "cell_type": "markdown",
   "id": "226d9023-10bc-46f2-9bf6-f9e493b23994",
   "metadata": {},
   "source": [
    "Посчитаем CAC – стоимость привлечения клиента - для контрольной и тестовой групп."
   ]
  },
  {
   "cell_type": "code",
   "execution_count": 123,
   "id": "bdd3d6e2-e45a-4636-a2d1-491a700d6b6e",
   "metadata": {},
   "outputs": [],
   "source": [
    "control_group['CAC'] = control_group['Spend [USD]']/control_group['# of Purchase']\n",
    "test_group['CAC'] = test_group['Spend [USD]']/test_group['# of Purchase']"
   ]
  },
  {
   "cell_type": "code",
   "execution_count": 124,
   "id": "04324724-a74c-4db3-857a-7fd52d36fd3d",
   "metadata": {},
   "outputs": [
    {
     "data": {
      "text/plain": [
       "5.052338662510724"
      ]
     },
     "execution_count": 124,
     "metadata": {},
     "output_type": "execute_result"
    }
   ],
   "source": [
    "control_group['CAC'].mean()"
   ]
  },
  {
   "cell_type": "code",
   "execution_count": 125,
   "id": "b1acffa6-0777-4fe8-bd6b-8dfe4f6b9177",
   "metadata": {},
   "outputs": [
    {
     "data": {
      "text/plain": [
       "5.899589404475941"
      ]
     },
     "execution_count": 125,
     "metadata": {},
     "output_type": "execute_result"
    }
   ],
   "source": [
    "test_group['CAC'].mean()"
   ]
  },
  {
   "cell_type": "markdown",
   "id": "254dfebd-2f5b-4f5d-b2ea-426f9347528f",
   "metadata": {},
   "source": [
    "Видим, что CAC в тестовой группе увеличился, что уменьшит прибыль. Необходимо проверить, является ли данное изменение статистически значимым.\n",
    "Посмотрим на распределения CAC."
   ]
  },
  {
   "cell_type": "code",
   "execution_count": 127,
   "id": "d20bc1dc-e499-4039-a637-38a58ae11701",
   "metadata": {},
   "outputs": [
    {
     "data": {
      "text/plain": [
       "<Axes: xlabel='CAC', ylabel='Count'>"
      ]
     },
     "execution_count": 127,
     "metadata": {},
     "output_type": "execute_result"
    },
    {
     "data": {
      "image/png": "[encoded data removed]",
      "text/plain": [
       "<Figure size 640x480 with 1 Axes>"
      ]
     },
     "metadata": {},
     "output_type": "display_data"
    }
   ],
   "source": [
    "sns.histplot(np.log(control_group['CAC'].dropna())) # Логарифмируем распределение САС в контрольной группе, чтобы добиться нормального распределения."
   ]
  },
  {
   "cell_type": "code",
   "execution_count": 128,
   "id": "2710fc0e-e6e5-46f2-9276-f24e191fb4d7",
   "metadata": {},
   "outputs": [
    {
     "data": {
      "text/plain": [
       "<Axes: xlabel='CAC', ylabel='Count'>"
      ]
     },
     "execution_count": 128,
     "metadata": {},
     "output_type": "execute_result"
    },
    {
     "data": {
      "image/png": "[encoded data removed]",
      "text/plain": [
       "<Figure size 640x480 with 1 Axes>"
      ]
     },
     "metadata": {},
     "output_type": "display_data"
    }
   ],
   "source": [
    "sns.histplot(np.log(test_group['CAC'].dropna())) # Логарифмируем распределение САС в тестовой группе, чтобы добиться нормального распределения."
   ]
  },
  {
   "cell_type": "markdown",
   "id": "99ec45e0-6ad8-456a-b7e0-72062e55c55a",
   "metadata": {},
   "source": [
    "Проверим распределения на нормальность с помощью теста Шапиро."
   ]
  },
  {
   "cell_type": "code",
   "execution_count": 130,
   "id": "3d874b11-89aa-449d-9e74-ad0511f2a845",
   "metadata": {},
   "outputs": [
    {
     "data": {
      "text/plain": [
       "ShapiroResult(statistic=0.9627324442070977, pvalue=0.38307846766511583)"
      ]
     },
     "execution_count": 130,
     "metadata": {},
     "output_type": "execute_result"
    }
   ],
   "source": [
    "shapiro(np.log(control_group['CAC'].dropna()))"
   ]
  },
  {
   "cell_type": "code",
   "execution_count": 131,
   "id": "4161287c-55c1-434b-92b7-39ec98bc0a47",
   "metadata": {},
   "outputs": [
    {
     "data": {
      "text/plain": [
       "ShapiroResult(statistic=0.9515990686028156, pvalue=0.1865512874341121)"
      ]
     },
     "execution_count": 131,
     "metadata": {},
     "output_type": "execute_result"
    }
   ],
   "source": [
    "shapiro(np.log(test_group['CAC'].dropna()))"
   ]
  },
  {
   "cell_type": "markdown",
   "id": "e6b81b4a-f176-4119-9024-f6515c5f7ae5",
   "metadata": {},
   "source": [
    "Поскольку в обоих случаях P-value больше 0.05, то распределения нормальны. Можно использовать t-тест. Нулевая гипотеза: среднее значение САС в контрольной и тестовой группах не отличаются."
   ]
  },
  {
   "cell_type": "code",
   "execution_count": 133,
   "id": "e7bc9364-fbbf-4dfd-aa1e-6cc2adde3980",
   "metadata": {},
   "outputs": [
    {
     "data": {
      "text/plain": [
       "TtestResult(statistic=-1.185322572235202, pvalue=0.24080815318507603, df=57.0)"
      ]
     },
     "execution_count": 133,
     "metadata": {},
     "output_type": "execute_result"
    }
   ],
   "source": [
    "ttest_ind(np.log(control_group['CAC'].dropna()), np.log(test_group['CAC'].dropna()))"
   ]
  },
  {
   "cell_type": "markdown",
   "id": "abd02e04-c1ec-4788-bd21-a180c7bd623e",
   "metadata": {},
   "source": [
    "P-value=0.24080815318507603 > 0.05, значит нельзя отклонить нулевую гипотезу. Следовательно, изменение САС не является статистически значимым."
   ]
  },
  {
   "cell_type": "markdown",
   "id": "1780bf2e-6020-4d41-bbd7-648f297b02b5",
   "metadata": {},
   "source": [
    "Посмотрим теперь на конверсию просмотра в покупку."
   ]
  },
  {
   "cell_type": "code",
   "execution_count": 136,
   "id": "263738a2-6cf9-4f95-9a01-5801131deefc",
   "metadata": {},
   "outputs": [],
   "source": [
    "control_group['CR_view_to_purchase'] = control_group['# of Purchase']/control_group['# of Impressions']\n",
    "test_group['CR_view_to_purchase'] = test_group['# of Purchase']/test_group['# of Impressions']"
   ]
  },
  {
   "cell_type": "code",
   "execution_count": 137,
   "id": "5f6ee6d5-8643-4349-91c4-5873427f39cb",
   "metadata": {},
   "outputs": [
    {
     "data": {
      "text/plain": [
       "0.005000838685705587"
      ]
     },
     "execution_count": 137,
     "metadata": {},
     "output_type": "execute_result"
    }
   ],
   "source": [
    "control_group['CR_view_to_purchase'].mean()"
   ]
  },
  {
   "cell_type": "code",
   "execution_count": 138,
   "id": "e0c6dabc-f51d-42bb-9b1e-1cf32614a032",
   "metadata": {},
   "outputs": [
    {
     "data": {
      "text/plain": [
       "0.008425206515806645"
      ]
     },
     "execution_count": 138,
     "metadata": {},
     "output_type": "execute_result"
    }
   ],
   "source": [
    "test_group['CR_view_to_purchase'].mean()"
   ]
  },
  {
   "cell_type": "markdown",
   "id": "652400ea-423b-4b5b-b201-45c4dcc3f6c2",
   "metadata": {},
   "source": [
    "Видим, что конверсия в покупку увеличилась в тестовой группе. Проверим, является ли изменение статистически значимым."
   ]
  },
  {
   "cell_type": "code",
   "execution_count": 140,
   "id": "d45cb226-bc66-4f8b-9f32-b92b1fa40e54",
   "metadata": {},
   "outputs": [
    {
     "data": {
      "text/plain": [
       "<Axes: xlabel='CR_view_to_purchase', ylabel='Count'>"
      ]
     },
     "execution_count": 140,
     "metadata": {},
     "output_type": "execute_result"
    },
    {
     "data": {
      "image/png": "[encoded data removed]",
      "text/plain": [
       "<Figure size 640x480 with 1 Axes>"
      ]
     },
     "metadata": {},
     "output_type": "display_data"
    }
   ],
   "source": [
    "sns.histplot(control_group['CR_view_to_purchase'], bins=20)"
   ]
  },
  {
   "cell_type": "code",
   "execution_count": 141,
   "id": "9bfa46c9-8374-41e3-ae11-7b54e3d33912",
   "metadata": {},
   "outputs": [
    {
     "data": {
      "text/plain": [
       "<Axes: xlabel='CR_view_to_purchase', ylabel='Count'>"
      ]
     },
     "execution_count": 141,
     "metadata": {},
     "output_type": "execute_result"
    },
    {
     "data": {
      "image/png": "[encoded data removed]",
      "text/plain": [
       "<Figure size 640x480 with 1 Axes>"
      ]
     },
     "metadata": {},
     "output_type": "display_data"
    }
   ],
   "source": [
    "sns.histplot(test_group['CR_view_to_purchase'], bins=20)"
   ]
  },
  {
   "cell_type": "code",
   "execution_count": 142,
   "id": "54b91a26-f26d-41d0-a12f-7d1798404afc",
   "metadata": {},
   "outputs": [
    {
     "data": {
      "text/plain": [
       "ShapiroResult(statistic=0.8838476002711686, pvalue=0.0034594715637168527)"
      ]
     },
     "execution_count": 142,
     "metadata": {},
     "output_type": "execute_result"
    }
   ],
   "source": [
    "shapiro(test_group['CR_view_to_purchase'].dropna())"
   ]
  },
  {
   "cell_type": "code",
   "execution_count": 143,
   "id": "7a5171c1-7919-4ffd-8c4f-5fd7d8b59e50",
   "metadata": {},
   "outputs": [
    {
     "data": {
      "text/plain": [
       "ShapiroResult(statistic=0.9573368197700145, pvalue=0.28217276932475105)"
      ]
     },
     "execution_count": 143,
     "metadata": {},
     "output_type": "execute_result"
    }
   ],
   "source": [
    "shapiro(control_group['CR_view_to_purchase'].dropna())"
   ]
  },
  {
   "cell_type": "markdown",
   "id": "2dd0a378-972e-49a3-b1ba-a8d9f45a8f2f",
   "metadata": {},
   "source": [
    "Распределение конверсии в тестовой группе не является нормальным. Поэтому лучше воспользоваться критерием Манна-Уитни.\n",
    "Нулевая гипотеза: вероятность случайно взять из первой выборки более высокое значение, чем из второй, равна 50%"
   ]
  },
  {
   "cell_type": "code",
   "execution_count": 145,
   "id": "e210757d-18e8-4ba3-8574-882d989c280f",
   "metadata": {},
   "outputs": [
    {
     "data": {
      "text/plain": [
       "MannwhitneyuResult(statistic=245.0, pvalue=0.00406347614003368)"
      ]
     },
     "execution_count": 145,
     "metadata": {},
     "output_type": "execute_result"
    }
   ],
   "source": [
    "mannwhitneyu(control_group['CR_view_to_purchase'].dropna(), test_group['CR_view_to_purchase'])"
   ]
  },
  {
   "cell_type": "markdown",
   "id": "360b8c2a-07e6-4f4c-b4ce-77ad56b6fb0f",
   "metadata": {},
   "source": [
    "P-value<0.05, значит можно отвергнуть нулевую гипотезу. Следовательно, увеличение СR статистически значимо."
   ]
  },
  {
   "cell_type": "markdown",
   "id": "59bf4c0f-7a9f-47ae-b874-6965603d6ece",
   "metadata": {},
   "source": [
    "Итак, мы обнаружили статистически значимое увеличение CR просмотра в покупку и незначительное увеличение САС. Значит, изменения можно считать положительными и тестовую компанию успешной."
   ]
  }
 ],
 "metadata": {
  "kernelspec": {
   "display_name": "Python 3 (ipykernel)",
   "language": "python",
   "name": "python3"
  },
  "language_info": {
   "codemirror_mode": {
    "name": "ipython",
    "version": 3
   },
   "file_extension": ".py",
   "mimetype": "text/x-python",
   "name": "python",
   "nbconvert_exporter": "python",
   "pygments_lexer": "ipython3",
   "version": "3.12.4"
  }
 },
 "nbformat": 4,
 "nbformat_minor": 5
}
